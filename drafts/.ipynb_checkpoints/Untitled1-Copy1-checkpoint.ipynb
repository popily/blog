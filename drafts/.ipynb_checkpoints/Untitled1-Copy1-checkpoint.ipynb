{
 "cells": [
  {
   "cell_type": "code",
   "execution_count": 49,
   "metadata": {
    "collapsed": false
   },
   "outputs": [],
   "source": [
    "from popily_api import Popily\n",
    "import pandas as pd\n",
    "import requests\n",
    "import io"
   ]
  },
  {
   "cell_type": "code",
   "execution_count": 50,
   "metadata": {
    "collapsed": false
   },
   "outputs": [],
   "source": [
    "from popily_api import Popily\n",
    "\n",
    "popily = Popily('d39c69f05c5fae5cbcbe6a3b6ebac693c6ffb807')\n",
    "\n",
    "url='https://raw.githubusercontent.com/chrisalbon/war_of_the_five_kings_dataset/master/5kings_battles_v1.csv'\n",
    "\n",
    "columns = [\n",
    "    {\n",
    "        'column_header': 'name',\n",
    "        'data_type': 'rowlabel'\n",
    "    },\n",
    "    {\n",
    "        'column_header': 'year',\n",
    "        'data_type': 'category'\n",
    "    },\n",
    "    {\n",
    "        'column_header': 'attacker_king',\n",
    "        'data_type': 'category'\n",
    "    },\n",
    "    {\n",
    "        'column_header': 'defender_king',\n",
    "        'data_type': 'category'\n",
    "    },\n",
    "    {\n",
    "        'column_header': 'battle_type',\n",
    "        'data_type': 'category'\n",
    "    },\n",
    "    {\n",
    "        'column_header': 'region',\n",
    "        'data_type': 'category'\n",
    "    }\n",
    "]"
   ]
  },
  {
   "cell_type": "code",
   "execution_count": 51,
   "metadata": {
    "collapsed": false
   },
   "outputs": [],
   "source": [
    "source = popily.add_source(url=url, columns=columns)"
   ]
  },
  {
   "cell_type": "code",
   "execution_count": 60,
   "metadata": {
    "collapsed": false
   },
   "outputs": [
    {
     "data": {
      "text/plain": [
       "{u'columns': [{u'column_header': u'attacker_king',\n",
       "   u'data_type': u'category',\n",
       "   u'id': 30196,\n",
       "   u'score': 2.10185096215238},\n",
       "  {u'column_header': u'battle_type',\n",
       "   u'data_type': u'category',\n",
       "   u'id': 30198,\n",
       "   u'score': 1.59296515086979},\n",
       "  {u'column_header': u'defender_king',\n",
       "   u'data_type': u'category',\n",
       "   u'id': 30197,\n",
       "   u'score': 1.00037218470644},\n",
       "  {u'column_header': u'region',\n",
       "   u'data_type': u'category',\n",
       "   u'id': 30199,\n",
       "   u'score': 0.899581076213693},\n",
       "  {u'column_header': u'year',\n",
       "   u'data_type': u'category',\n",
       "   u'id': 30195,\n",
       "   u'score': 0.70275595878148},\n",
       "  {u'column_header': u'name',\n",
       "   u'data_type': u'rowlabel',\n",
       "   u'id': 30194,\n",
       "   u'score': 0.0}],\n",
       " u'created_by': 3,\n",
       " u'description': None,\n",
       " u'explore_path': u'/explore/source/5kings-battles-v1-csv-3/discoveries/',\n",
       " u'id': 2429,\n",
       " u'sheetname': None,\n",
       " u'slug': u'5kings-battles-v1-csv-3',\n",
       " u'status': u'finished',\n",
       " u'title': u'5kings_battles_v1.csv',\n",
       " u'url': u'https://raw.githubusercontent.com/chrisalbon/war_of_the_five_kings_dataset/master/5kings_battles_v1.csv'}"
      ]
     },
     "execution_count": 60,
     "metadata": {},
     "output_type": "execute_result"
    }
   ],
   "source": [
    "popily.get_source(str(source.get('slug')))"
   ]
  },
  {
   "cell_type": "code",
   "execution_count": 65,
   "metadata": {
    "collapsed": false
   },
   "outputs": [
    {
     "data": {
      "text/plain": [
       "{u'embed_url': u'https://popily.com/widget/chart/region-battle-type/-/?style=compact-500-500&app_id=596&sig=f4d14a8c8fda4b3672794cd3ee27b00b&timestamp=1457634286',\n",
       " u'filters_key': u'',\n",
       " u'id': 3130594,\n",
       " u'insight_action': u'count',\n",
       " u'insight_type': u'count_by_category_by_category',\n",
       " u'refresh_rate': 0,\n",
       " u'source': 2429,\n",
       " u'title': u'Number of region grouped by battle_type',\n",
       " u'x_label': u'region',\n",
       " u'y_label': u'Number of Records',\n",
       " u'z_label': u''}"
      ]
     },
     "execution_count": 65,
     "metadata": {},
     "output_type": "execute_result"
    }
   ],
   "source": [
    "# Get all insights that represent the relationship between Column A and Column B\n",
    "\n",
    "popily.get_insights(str(source.get('slug')), columns=['battle_type','region'], single=True)"
   ]
  },
  {
   "cell_type": "code",
   "execution_count": null,
   "metadata": {
    "collapsed": true
   },
   "outputs": [],
   "source": []
  }
 ],
 "metadata": {
  "kernelspec": {
   "display_name": "Python 2",
   "language": "python",
   "name": "python2"
  },
  "language_info": {
   "codemirror_mode": {
    "name": "ipython",
    "version": 2
   },
   "file_extension": ".py",
   "mimetype": "text/x-python",
   "name": "python",
   "nbconvert_exporter": "python",
   "pygments_lexer": "ipython2",
   "version": "2.7.11"
  }
 },
 "nbformat": 4,
 "nbformat_minor": 0
}
